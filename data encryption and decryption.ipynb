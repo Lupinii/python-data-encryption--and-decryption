{
 "cells": [
  {
   "cell_type": "markdown",
   "id": "516fa4ab-8e31-4e57-9bbc-e1e3dc5c69de",
   "metadata": {},
   "source": [
    "<h3 style='color:green;'>Encryption and Decryption using cryptography module</h3>"
   ]
  },
  {
   "cell_type": "code",
   "execution_count": 1,
   "id": "f9d37705-2201-4372-ae8f-cac85c1f778a",
   "metadata": {
    "scrolled": true
   },
   "outputs": [
    {
     "name": "stdout",
     "output_type": "stream",
     "text": [
      "Requirement already satisfied: cryptography in c:\\users\\oroni\\miniconda3\\lib\\site-packages (44.0.1)\n",
      "Requirement already satisfied: cffi>=1.12 in c:\\users\\oroni\\miniconda3\\lib\\site-packages (from cryptography) (1.17.1)\n",
      "Requirement already satisfied: pycparser in c:\\users\\oroni\\miniconda3\\lib\\site-packages (from cffi>=1.12->cryptography) (2.21)\n"
     ]
    }
   ],
   "source": [
    "# installing the cryptography package\n",
    "!pip install cryptography"
   ]
  },
  {
   "cell_type": "code",
   "execution_count": 2,
   "id": "5ecd2b1b-c80d-4a23-accd-d548a77dcfca",
   "metadata": {},
   "outputs": [
    {
     "name": "stdout",
     "output_type": "stream",
     "text": [
      "Name: cryptography\n",
      "Version: 44.0.1\n",
      "Summary: cryptography is a package which provides cryptographic recipes and primitives to Python developers.\n",
      "Home-page: https://github.com/pyca/cryptography\n",
      "Author: The cryptography developers <cryptography-dev@python.org>\n",
      "Author-email: The Python Cryptographic Authority and individual contributors <cryptography-dev@python.org>\n",
      "License: Apache-2.0 OR BSD-3-Clause\n",
      "Location: C:\\Users\\oroni\\miniconda3\\Lib\\site-packages\n",
      "Requires: cffi\n",
      "Required-by: conda-content-trust\n"
     ]
    }
   ],
   "source": [
    "# Verifying that the package has been installed\n",
    "!pip show cryptography"
   ]
  },
  {
   "cell_type": "code",
   "execution_count": 9,
   "id": "3416083a-da80-4a1c-92c7-15b392609a7b",
   "metadata": {},
   "outputs": [],
   "source": [
    "# importing the package to the Jupyter notebook\n",
    "import cryptography\n",
    "\n",
    "# importing the Fernet class from the fernet module in the Cryptograghy package to  generate the cryptographic keys\n",
    "from cryptography.fernet import Fernet, MultiFernet"
   ]
  },
  {
   "cell_type": "markdown",
   "id": "629029f4-99c2-4f1f-b606-50ed75282aa1",
   "metadata": {},
   "source": [
    "<h4>Data encryption</h4>"
   ]
  },
  {
   "cell_type": "code",
   "execution_count": 4,
   "id": "0060acf2-86bf-4322-93a4-5bd2624ea4a6",
   "metadata": {},
   "outputs": [],
   "source": [
    "# Generating the key\n",
    "key = Fernet.generate_key()\n",
    "f = Fernet(key)"
   ]
  },
  {
   "cell_type": "code",
   "execution_count": 5,
   "id": "8e377268-50b5-4f33-af5c-f09fbdfcbbec",
   "metadata": {},
   "outputs": [],
   "source": [
    "# The data(message) to be encrypted should be in bytes and not strings\n",
    "message = b'Keen Ombasa'"
   ]
  },
  {
   "cell_type": "code",
   "execution_count": 6,
   "id": "544eb875-6362-4c73-89eb-3b8463b6d5ca",
   "metadata": {},
   "outputs": [
    {
     "data": {
      "text/plain": [
       "b'gAAAAABoKITjnEe5UY6x-OLArO93PVTti0inJcMVixBJyGGFdR9ZRuWCVTSzJcTwkjKZKRg1c5Z63CAlXcxLfzgXjwqOxf1nbQ=='"
      ]
     },
     "execution_count": 6,
     "metadata": {},
     "output_type": "execute_result"
    }
   ],
   "source": [
    "fernettoken = f.encrypt(message)\n",
    "\n",
    "# the encrypted message is stored as fernettoken.\n",
    "fernettoken"
   ]
  },
  {
   "cell_type": "markdown",
   "id": "d57fe754-f9c1-40eb-a2da-7e0647707496",
   "metadata": {},
   "source": [
    "<h4>Data decryption</h4>"
   ]
  },
  {
   "cell_type": "code",
   "execution_count": 7,
   "id": "fbfccb14-bc1b-4d38-b97b-6330400d8f8e",
   "metadata": {},
   "outputs": [
    {
     "data": {
      "text/plain": [
       "b'Keen Ombasa'"
      ]
     },
     "execution_count": 7,
     "metadata": {},
     "output_type": "execute_result"
    }
   ],
   "source": [
    "decryptedmessage = f.decrypt(fernettoken)\n",
    "decryptedmessage"
   ]
  },
  {
   "cell_type": "code",
   "execution_count": 8,
   "id": "92008ad2-c721-4330-81ed-be9b3244d041",
   "metadata": {},
   "outputs": [
    {
     "data": {
      "text/plain": [
       "'Keen Ombasa'"
      ]
     },
     "execution_count": 8,
     "metadata": {},
     "output_type": "execute_result"
    }
   ],
   "source": [
    "# Converting the decrypted message from bytes to string we decode using UnicodeStandard\n",
    "decryptedmessage.decode('utf-8')"
   ]
  },
  {
   "cell_type": "markdown",
   "id": "05f4c736-b4b3-40a4-83fb-18e2d025015d",
   "metadata": {},
   "source": [
    "<h4>Using MultiFernet in cryptography</h4>"
   ]
  },
  {
   "cell_type": "code",
   "execution_count": 17,
   "id": "3f3e66e1-db6d-42a5-8670-b34c49e5d20f",
   "metadata": {},
   "outputs": [],
   "source": [
    "# Generating the keys\n",
    "key1 = Fernet(Fernet.generate_key())\n",
    "key2 = Fernet(Fernet.generate_key())\n",
    "multifier = MultiFernet([key1, key2])"
   ]
  },
  {
   "cell_type": "code",
   "execution_count": 15,
   "id": "55fcd5bc-77cb-43e3-b45b-118903ff42b4",
   "metadata": {},
   "outputs": [],
   "source": [
    "message = b'This is Secret Agent Keen Ombasa.'"
   ]
  },
  {
   "cell_type": "code",
   "execution_count": 18,
   "id": "65c56a54-e196-4653-8ba0-f61209c7a2a8",
   "metadata": {},
   "outputs": [],
   "source": [
    "# Encryting the message\n",
    "fernettoken = multifier.encrypt(message)"
   ]
  },
  {
   "cell_type": "code",
   "execution_count": 19,
   "id": "356f62a8-3c36-41bc-8c52-56fc7aee33bf",
   "metadata": {},
   "outputs": [
    {
     "name": "stdout",
     "output_type": "stream",
     "text": [
      "b'gAAAAABoKIz-BZzuC-k_G2ujpoYpXFiTmazVYoTwpCaYRc_0BTYf8UcEvjR2WY3WjuDcROoXCnKsKiTvN1H4-nb04yGZ5kSmbVIHcTHqNJYPWIZ8f9keDb62x-ZtE137d35hZRrJPMAN'\n"
     ]
    }
   ],
   "source": [
    "print(fernettoken)"
   ]
  },
  {
   "cell_type": "code",
   "execution_count": 21,
   "id": "bb3e4888-cf6a-42c7-9490-93de23810c0e",
   "metadata": {},
   "outputs": [
    {
     "data": {
      "text/plain": [
       "'This is Secret Agent Keen Ombasa.'"
      ]
     },
     "execution_count": 21,
     "metadata": {},
     "output_type": "execute_result"
    }
   ],
   "source": [
    "# Decrypting the message\n",
    "multifier.decrypt(fernettoken).decode('utf-8')"
   ]
  },
  {
   "cell_type": "markdown",
   "id": "17ebf978-21c0-45aa-a216-713d9da090b5",
   "metadata": {},
   "source": [
    "<h4>Using passwords with Fernet</h4>"
   ]
  },
  {
   "cell_type": "code",
   "execution_count": 30,
   "id": "b348b8dd-9861-4404-b3b5-82c2f727d36f",
   "metadata": {},
   "outputs": [
    {
     "name": "stdout",
     "output_type": "stream",
     "text": [
      "b'>+\\xa3L\\x04\\x83\\x92n\\xcf\\xd8r\\x90?\\xd2\\xb3g'\n"
     ]
    },
    {
     "data": {
      "text/plain": [
       "b'gAAAAABoKJ8JO667Qd0FDtebm9akazlG9DAkXpMMQj0bBJqnoUSMY29F1GTVmdRAzhzY8S_HPams9rfrmA2DKJMSjXNF_RnvpDDr-UD8exg6r03a5d_UUbE='"
      ]
     },
     "execution_count": 30,
     "metadata": {},
     "output_type": "execute_result"
    }
   ],
   "source": [
    "# 📦 1. Importing Required Modules\n",
    "# Used to interact with the operating system, here to generate a random salt.\n",
    "import os\n",
    "\n",
    "# Used to encode binary data in ASCII format, especially to make keys URL-safe.\n",
    "import base64\n",
    "\n",
    "# Provides cryptographic hash functions (here SHA256).\n",
    "from cryptography.hazmat.primitives import hashes\n",
    "\n",
    "# A Key Derivation Function (KDF) based on PBKDF2 (Password-Based Key Derivation Function 2) using HMAC.\n",
    "from cryptography.hazmat.primitives.kdf.pbkdf2 import PBKDF2HMAC\n",
    "\n",
    "# Provides the default cryptographic backend for performing operations\n",
    "from cryptography.hazmat.backends import default_backend\n",
    "\n",
    "# 🔐 2. Defining Password and Salt\n",
    "#  A byte string (b'...') representing the password. It must be in bytes for the key derivation function.\n",
    "password = b'123456'\n",
    "\n",
    "# Generates a 16-byte random salt, used to make the key derivation unique and secure\n",
    "salt = os.urandom(16)\n",
    "print(salt)\n",
    "\n",
    "# 🧪 3. Creating the Key Derivation Function (KDF)\n",
    "kdf = PBKDF2HMAC( \n",
    "    algorithm=hashes.SHA256(),\n",
    "    length=32,\n",
    "    salt=salt,\n",
    "    iterations=100000,\n",
    "    backend=default_backend()\n",
    ")\n",
    "\n",
    "# 🔑 4. Deriving and Encoding the Key\n",
    "key = base64.urlsafe_b64encode(kdf.derive(password))\n",
    "\n",
    "# 🔐 5. Creating a Fernet Encryption Object\n",
    "f = Fernet(key)\n",
    "\n",
    "# ✉️ 6. Encrypting a Message\n",
    "message = b'Keen Oroni Ombasa'\n",
    "fernettoken = f.encrypt(message)\n",
    "fernettoken\n"
   ]
  },
  {
   "cell_type": "code",
   "execution_count": 24,
   "id": "ce216851-9363-40d7-bc4f-981798de82f6",
   "metadata": {},
   "outputs": [
    {
     "data": {
      "text/plain": [
       "'Keen Oroni Ombasa'"
      ]
     },
     "execution_count": 24,
     "metadata": {},
     "output_type": "execute_result"
    }
   ],
   "source": [
    "f.decrypt(fernettoken).decode('utf-8')"
   ]
  },
  {
   "cell_type": "code",
   "execution_count": 33,
   "id": "34765743-c5fe-4578-8021-e456de16ecfe",
   "metadata": {},
   "outputs": [
    {
     "name": "stdout",
     "output_type": "stream",
     "text": [
      "\n",
      "Encrypted Message (token): b'gAAAAABoKKQszskC7c7KXLnqzZ8biM-beyTnMI_19jZNnxARlG00MS6wdbA_dxkXELeUlUumQWND4QKtZsCdF4TCkXtMpiIjabWEwIADrpnFcNHTokKEZ8M='\n",
      "Salt (save this!): b'\\xda<\\xfc\\x0b\\xc4+\\x89\\xd4\\xd4V*<)\\xb7}\\xbb'\n"
     ]
    },
    {
     "name": "stdin",
     "output_type": "stream",
     "text": [
      "\n",
      "Enter the password to decrypt:  123456\n"
     ]
    },
    {
     "name": "stdout",
     "output_type": "stream",
     "text": [
      "\n",
      "Decrypted Message: Keen Oroni Ombasa\n"
     ]
    }
   ],
   "source": [
    "import os\n",
    "import base64\n",
    "from cryptography.hazmat.primitives import hashes\n",
    "from cryptography.hazmat.primitives.kdf.pbkdf2 import PBKDF2HMAC\n",
    "from cryptography.fernet import Fernet\n",
    "from cryptography.hazmat.backends import default_backend\n",
    "\n",
    "# === ENCRYPTION PHASE ===\n",
    "def encrypt_message(password: str, message: bytes):\n",
    "    password_bytes = password.encode()  # Convert password to bytes\n",
    "    salt = os.urandom(16)  # Random salt (must be saved for decryption)\n",
    "\n",
    "    # Derive key\n",
    "    kdf = PBKDF2HMAC(\n",
    "        algorithm=hashes.SHA256(),\n",
    "        length=32,\n",
    "        salt=salt,\n",
    "        iterations=100000,\n",
    "        backend=default_backend()\n",
    "    )\n",
    "    key = base64.urlsafe_b64encode(kdf.derive(password_bytes))\n",
    "\n",
    "    # Encrypt\n",
    "    fernet = Fernet(key)\n",
    "    encrypted_message = fernet.encrypt(message)\n",
    "\n",
    "    return encrypted_message, salt  # Return both encrypted message and salt\n",
    "\n",
    "\n",
    "# === DECRYPTION PHASE ===\n",
    "def decrypt_message(password: str, encrypted_message: bytes, salt: bytes):\n",
    "    password_bytes = password.encode()\n",
    "\n",
    "    # Derive key again using the same salt\n",
    "    kdf = PBKDF2HMAC(\n",
    "        algorithm=hashes.SHA256(),\n",
    "        length=32,\n",
    "        salt=salt,\n",
    "        iterations=100000,\n",
    "        backend=default_backend()\n",
    "    )\n",
    "    key = base64.urlsafe_b64encode(kdf.derive(password_bytes))\n",
    "\n",
    "    # Decrypt\n",
    "    fernet = Fernet(key)\n",
    "    try:\n",
    "        decrypted_message = fernet.decrypt(encrypted_message)\n",
    "        return decrypted_message\n",
    "    except Exception as e:\n",
    "        return f\"Decryption failed: {e}\"\n",
    "\n",
    "\n",
    "# === DEMO ===\n",
    "\n",
    "# Step 1: User sets a password and a message\n",
    "password_input = '123456'\n",
    "message = b\"Keen Oroni Ombasa\"\n",
    "\n",
    "# Encrypt\n",
    "token, salt = encrypt_message(password_input, message)\n",
    "print(f\"\\nEncrypted Message (token): {token}\")\n",
    "print(f\"Salt (save this!): {salt}\")\n",
    "\n",
    "# Step 2: Later... user enters the same password to decrypt\n",
    "password_attempt = input(\"\\nEnter the password to decrypt: \")\n",
    "decrypted = decrypt_message(password_attempt, token, salt).decode('utf-8')\n",
    "print(f\"\\nDecrypted Message: {decrypted}\")\n"
   ]
  },
  {
   "cell_type": "code",
   "execution_count": null,
   "id": "80d19c57-f745-434d-9318-064c70c874d5",
   "metadata": {},
   "outputs": [],
   "source": []
  }
 ],
 "metadata": {
  "kernelspec": {
   "display_name": "Python 3 (ipykernel)",
   "language": "python",
   "name": "python3"
  },
  "language_info": {
   "codemirror_mode": {
    "name": "ipython",
    "version": 3
   },
   "file_extension": ".py",
   "mimetype": "text/x-python",
   "name": "python",
   "nbconvert_exporter": "python",
   "pygments_lexer": "ipython3",
   "version": "3.13.2"
  }
 },
 "nbformat": 4,
 "nbformat_minor": 5
}
